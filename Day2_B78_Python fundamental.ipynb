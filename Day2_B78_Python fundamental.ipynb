{
 "cells": [
  {
   "cell_type": "code",
   "execution_count": null,
   "id": "088c0035",
   "metadata": {},
   "outputs": [],
   "source": [
    "Indroduction of Python:"
   ]
  },
  {
   "cell_type": "code",
   "execution_count": null,
   "id": "24fbda60",
   "metadata": {},
   "outputs": [],
   "source": [
    "Rules of variable:\n",
    "    1) No name space while declaring the variable. Eg: first name = 'country' ==> Syntax error\n",
    "    2) Variable should not start with numebers. Eg: 1first = 'bounty' ==> Syntax error\n",
    "    3) Variable should not contain special charecters. Eg. !,@,#,$,%,^,&,* .. etc"
   ]
  },
  {
   "cell_type": "code",
   "execution_count": null,
   "id": "69ae721e",
   "metadata": {},
   "outputs": [],
   "source": [
    "Introduction to Datatypes:\n",
    "    1) String --> str ----> Series of charecters declared\n",
    "    2) Integer --> int ---> Numbers.... float --> decimal numbers\n",
    "    3) list\n",
    "    4) tuple\n",
    "    5) dictionaries --> dict"
   ]
  },
  {
   "cell_type": "code",
   "execution_count": null,
   "id": "1606c0dd",
   "metadata": {},
   "outputs": [],
   "source": [
    "Classification of datatypes:\n",
    "    1) Mutable --> which we can edit/alert.\n",
    "    2) Immutable --> can't make changes, fixed in nature."
   ]
  },
  {
   "cell_type": "code",
   "execution_count": null,
   "id": "ca4b1ee4",
   "metadata": {},
   "outputs": [],
   "source": [
    "Inroduction of String datatypes:\n",
    "    Defination: String a series of charecters declared in quotes. Eg.  ' ',\" \"\n",
    "    Classification: It is a immutable datatype.  "
   ]
  },
  {
   "cell_type": "code",
   "execution_count": null,
   "id": "ec4de5eb",
   "metadata": {},
   "outputs": [],
   "source": [
    "Introduction of string methods:\n",
    "    Methods are inbuilt program in Python. \n",
    "    \n",
    "    Eg. of str methods. \n",
    "    1) (.tile)==> First letter comes in Upper case\n",
    "    2) (.upper)==> All letter comes in Upper case\n",
    "    3) (.lower)==> All letter comes in Lower case"
   ]
  },
  {
   "cell_type": "code",
   "execution_count": 5,
   "id": "07cbc5a3",
   "metadata": {},
   "outputs": [
    {
     "name": "stdout",
     "output_type": "stream",
     "text": [
      "as same as like variable abDul rahuMan\n"
     ]
    }
   ],
   "source": [
    "# print name by using different methods\n",
    "\n",
    "name=\"abDul rahuMan\"\n",
    "print(\"as same as like variable\",name)"
   ]
  },
  {
   "cell_type": "code",
   "execution_count": 7,
   "id": "db31f10f",
   "metadata": {},
   "outputs": [
    {
     "name": "stdout",
     "output_type": "stream",
     "text": [
      "Abdul Rahuman\n"
     ]
    }
   ],
   "source": [
    "name='abDul rahuMan'\n",
    "print(name.title())"
   ]
  },
  {
   "cell_type": "code",
   "execution_count": 8,
   "id": "da17d1bb",
   "metadata": {},
   "outputs": [
    {
     "name": "stdout",
     "output_type": "stream",
     "text": [
      "ABDUL RAHUMAN\n"
     ]
    }
   ],
   "source": [
    "name=\"abdul rahuman\"\n",
    "print(name.upper())"
   ]
  },
  {
   "cell_type": "code",
   "execution_count": 11,
   "id": "badb713e",
   "metadata": {},
   "outputs": [
    {
     "name": "stdout",
     "output_type": "stream",
     "text": [
      "abdul rahuman\n"
     ]
    }
   ],
   "source": [
    "name=\"ABDUL rahuman\"\n",
    "print(name.lower())"
   ]
  },
  {
   "cell_type": "code",
   "execution_count": null,
   "id": "fe4f9d84",
   "metadata": {},
   "outputs": [],
   "source": []
  }
 ],
 "metadata": {
  "kernelspec": {
   "display_name": "Python 3 (ipykernel)",
   "language": "python",
   "name": "python3"
  },
  "language_info": {
   "codemirror_mode": {
    "name": "ipython",
    "version": 3
   },
   "file_extension": ".py",
   "mimetype": "text/x-python",
   "name": "python",
   "nbconvert_exporter": "python",
   "pygments_lexer": "ipython3",
   "version": "3.10.9"
  }
 },
 "nbformat": 4,
 "nbformat_minor": 5
}
